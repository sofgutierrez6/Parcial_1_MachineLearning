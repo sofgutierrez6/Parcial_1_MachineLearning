{
 "cells": [
  {
   "cell_type": "code",
   "execution_count": 1,
   "metadata": {},
   "outputs": [],
   "source": [
    "from tensorflow.keras.models import Sequential\n",
    "from tensorflow.keras.layers import Dense, Dropout, Flatten\n",
    "from tensorflow.keras.layers import Conv2D, MaxPooling2D, Activation, BatchNormalization\n",
    "from tensorflow.keras.layers import GlobalAveragePooling2D\n",
    "import tensorflow as tf\n",
    "import numpy as np\n",
    "import os"
   ]
  },
  {
   "cell_type": "code",
   "execution_count": 2,
   "metadata": {},
   "outputs": [],
   "source": [
    "IMAGE_SHAPE = (128, 128, 3)\n",
    "CLASS_ONE = \"Mundo3\"\n",
    "\n",
    "TRAIN_DATA_FILES = [\"./DataNous/Caso_Dificil/Entrenamiento/Mundo3/*.png\", \"./DataNous/Caso_Dificil/Entrenamiento/Mundo6/*.png\"]\n",
    "VALIDATION_DATA_FILES = [\"./DataNous/Caso_Dificil/Validacion/Mundo3/*.png\", \"./DataNous/Caso_Dificil/Validacion/Mundo6/*.png\"]\n",
    "\n",
    "CHECKPOINTS = \"./DataNous/Caso_Dificil/Checkpoints/Caso_Dificil_{epoch:04d}.h5\"\n",
    "\n",
    "BATCH_SIZE = 32"
   ]
  },
  {
   "cell_type": "code",
   "execution_count": 3,
   "metadata": {},
   "outputs": [
    {
     "name": "stdout",
     "output_type": "stream",
     "text": [
      "Model: \"sequential\"\n",
      "_________________________________________________________________\n",
      "Layer (type)                 Output Shape              Param #   \n",
      "=================================================================\n",
      "conv2d (Conv2D)              (None, 64, 64, 16)        448       \n",
      "_________________________________________________________________\n",
      "conv2d_1 (Conv2D)            (None, 32, 32, 32)        4640      \n",
      "_________________________________________________________________\n",
      "conv2d_2 (Conv2D)            (None, 16, 16, 64)        18496     \n",
      "_________________________________________________________________\n",
      "flatten (Flatten)            (None, 16384)             0         \n",
      "_________________________________________________________________\n",
      "dense (Dense)                (None, 1)                 16385     \n",
      "=================================================================\n",
      "Total params: 39,969\n",
      "Trainable params: 39,969\n",
      "Non-trainable params: 0\n",
      "_________________________________________________________________\n"
     ]
    }
   ],
   "source": [
    "model = tf.keras.Sequential()\n",
    "model.add(tf.keras.layers.Conv2D(16, (3,3), strides=(2,2), padding='same', input_shape=IMAGE_SHAPE))\n",
    "model.add(tf.keras.layers.Conv2D(32, (3,3), strides=(2,2), padding='same'))\n",
    "model.add(tf.keras.layers.Conv2D(64, (3,3), strides=(2,2), padding='same'))\n",
    "model.add(tf.keras.layers.Flatten())\n",
    "model.add(tf.keras.layers.Dense(1))\n",
    "model.summary()"
   ]
  },
  {
   "cell_type": "code",
   "execution_count": 4,
   "metadata": {},
   "outputs": [],
   "source": [
    "def process_dataset(file_path):\n",
    "    parts = tf.strings.split(file_path, os.path.sep)\n",
    "    label = parts[-2]\n",
    "    label = label == CLASS_ONE\n",
    "    label = tf.cast(label, dtype=tf.float32)\n",
    "\n",
    "    image = tf.io.read_file(file_path)\n",
    "    image = tf.image.decode_png(image)\n",
    "    image = tf.image.resize(image, (128, 128))\n",
    "    image = (tf.image.convert_image_dtype(image, tf.float32) / 127.5) - 1\n",
    "\n",
    "    return image, label"
   ]
  },
  {
   "cell_type": "code",
   "execution_count": 5,
   "metadata": {},
   "outputs": [],
   "source": [
    "train_dataset = tf.data.Dataset.list_files(TRAIN_DATA_FILES)\n",
    "train_dataset = train_dataset.map(process_dataset, tf.data.experimental.AUTOTUNE)\n",
    "train_dataset = train_dataset.shuffle(buffer_size=1024, reshuffle_each_iteration=True)\n",
    "train_dataset = train_dataset.batch(BATCH_SIZE).repeat()\n",
    "train_dataset = train_dataset.prefetch(tf.data.experimental.AUTOTUNE)\n",
    "\n",
    "validation_dataset = tf.data.Dataset.list_files(VALIDATION_DATA_FILES)\n",
    "validation_dataset = validation_dataset.map(process_dataset, tf.data.experimental.AUTOTUNE)\n",
    "validation_dataset = validation_dataset.batch(BATCH_SIZE)\n",
    "validation_dataset = validation_dataset.prefetch(tf.data.experimental.AUTOTUNE)"
   ]
  },
  {
   "cell_type": "code",
   "execution_count": 6,
   "metadata": {},
   "outputs": [],
   "source": [
    "Optimizer = tf.keras.optimizers.Adam(learning_rate=0.00001)\n",
    "Loss = tf.keras.losses.BinaryCrossentropy()\n",
    "model.compile(optimizer=Optimizer,\n",
    "               loss=Loss,\n",
    "               metrics=['binary_accuracy'])\n",
    "\n",
    "checkpoints = tf.keras.callbacks.ModelCheckpoint(CHECKPOINTS,\n",
    "                                                 save_best_only=True,\n",
    "                                                 monitor='binary_accuracy')"
   ]
  },
  {
   "cell_type": "code",
   "execution_count": 7,
   "metadata": {},
   "outputs": [
    {
     "data": {
      "text/plain": [
       "339.0"
      ]
     },
     "execution_count": 7,
     "metadata": {},
     "output_type": "execute_result"
    }
   ],
   "source": [
    "initial_epochs = 20\n",
    "num_batches = np.ceil(len(list(tf.data.Dataset.list_files(TRAIN_DATA_FILES))) / BATCH_SIZE)\n",
    "num_batches"
   ]
  },
  {
   "cell_type": "code",
   "execution_count": 8,
   "metadata": {},
   "outputs": [
    {
     "name": "stdout",
     "output_type": "stream",
     "text": [
      "Train for 339.0 steps, validate for 38 steps\n",
      "Epoch 1/20\n",
      "339/339 [==============================] - 95s 279ms/step - loss: 0.7294 - binary_accuracy: 0.5745 - val_loss: 0.6391 - val_binary_accuracy: 0.6420\n",
      "Epoch 2/20\n",
      "339/339 [==============================] - 85s 251ms/step - loss: 0.5590 - binary_accuracy: 0.7166 - val_loss: 0.5072 - val_binary_accuracy: 0.7716\n",
      "Epoch 3/20\n",
      "339/339 [==============================] - 96s 284ms/step - loss: 0.4428 - binary_accuracy: 0.8305 - val_loss: 0.3963 - val_binary_accuracy: 0.8580\n",
      "Epoch 4/20\n",
      "339/339 [==============================] - 88s 261ms/step - loss: 0.3394 - binary_accuracy: 0.9000 - val_loss: 0.3038 - val_binary_accuracy: 0.9128\n",
      "Epoch 5/20\n",
      "339/339 [==============================] - 84s 249ms/step - loss: 0.2567 - binary_accuracy: 0.9331 - val_loss: 0.2284 - val_binary_accuracy: 0.9402\n",
      "Epoch 6/20\n",
      "339/339 [==============================] - 85s 250ms/step - loss: 0.1913 - binary_accuracy: 0.9534 - val_loss: 0.1734 - val_binary_accuracy: 0.9551\n",
      "Epoch 7/20\n",
      "339/339 [==============================] - 85s 250ms/step - loss: 0.1422 - binary_accuracy: 0.9679 - val_loss: 0.1299 - val_binary_accuracy: 0.9651\n",
      "Epoch 8/20\n",
      "339/339 [==============================] - 86s 253ms/step - loss: 0.1057 - binary_accuracy: 0.9773 - val_loss: 0.0985 - val_binary_accuracy: 0.9709\n",
      "Epoch 9/20\n",
      "339/339 [==============================] - 85s 250ms/step - loss: 0.0792 - binary_accuracy: 0.9850 - val_loss: 0.0771 - val_binary_accuracy: 0.9784\n",
      "Epoch 10/20\n",
      "339/339 [==============================] - 85s 250ms/step - loss: 0.0593 - binary_accuracy: 0.9903 - val_loss: 0.0573 - val_binary_accuracy: 0.9867\n",
      "Epoch 11/20\n",
      "339/339 [==============================] - 89s 263ms/step - loss: 0.0436 - binary_accuracy: 0.9948 - val_loss: 0.0430 - val_binary_accuracy: 0.9942\n",
      "Epoch 12/20\n",
      "339/339 [==============================] - 85s 252ms/step - loss: 0.0312 - binary_accuracy: 0.9981 - val_loss: 0.0315 - val_binary_accuracy: 0.9967\n",
      "Epoch 13/20\n",
      "339/339 [==============================] - 86s 253ms/step - loss: 0.0215 - binary_accuracy: 0.9994 - val_loss: 0.0222 - val_binary_accuracy: 0.9975\n",
      "Epoch 14/20\n",
      "339/339 [==============================] - 86s 254ms/step - loss: 0.0140 - binary_accuracy: 0.9998 - val_loss: 0.0155 - val_binary_accuracy: 0.9992\n",
      "Epoch 15/20\n",
      "339/339 [==============================] - 85s 251ms/step - loss: 0.0088 - binary_accuracy: 0.9999 - val_loss: 0.0104 - val_binary_accuracy: 0.9992\n",
      "Epoch 16/20\n",
      "339/339 [==============================] - 85s 250ms/step - loss: 0.0056 - binary_accuracy: 0.9999 - val_loss: 0.0075 - val_binary_accuracy: 0.9992\n",
      "Epoch 17/20\n",
      "339/339 [==============================] - 85s 251ms/step - loss: 0.0036 - binary_accuracy: 0.9999 - val_loss: 0.0052 - val_binary_accuracy: 1.0000\n",
      "Epoch 18/20\n",
      "339/339 [==============================] - 87s 256ms/step - loss: 0.0023 - binary_accuracy: 0.9999 - val_loss: 0.0039 - val_binary_accuracy: 1.0000\n",
      "Epoch 19/20\n",
      "339/339 [==============================] - 85s 252ms/step - loss: 0.0015 - binary_accuracy: 0.9999 - val_loss: 0.0031 - val_binary_accuracy: 1.0000\n",
      "Epoch 20/20\n",
      "339/339 [==============================] - 86s 253ms/step - loss: 0.0010 - binary_accuracy: 0.9999 - val_loss: 0.0027 - val_binary_accuracy: 1.0000\n"
     ]
    }
   ],
   "source": [
    "history = model.fit(x=train_dataset,\n",
    "                       shuffle=True,\n",
    "                       #verbose=2,\n",
    "                       callbacks=[checkpoints], #, TensorBoard],\n",
    "                       steps_per_epoch=num_batches,\n",
    "                       epochs=initial_epochs,\n",
    "                       validation_data=validation_dataset,\n",
    "                       initial_epoch=0)"
   ]
  },
  {
   "cell_type": "code",
   "execution_count": 11,
   "metadata": {},
   "outputs": [
    {
     "data": {
      "image/png": "[encoded data removed]",
      "text/plain": [
       "<Figure size 576x576 with 2 Axes>"
      ]
     },
     "metadata": {
      "needs_background": "light"
     },
     "output_type": "display_data"
    }
   ],
   "source": [
    "import matplotlib.pyplot as plt\n",
    "acc = history.history['binary_accuracy']\n",
    "val_acc = history.history['val_binary_accuracy']\n",
    "\n",
    "loss = history.history['loss']\n",
    "val_loss = history.history['val_loss']\n",
    "\n",
    "plt.figure(figsize=(8, 8))\n",
    "plt.subplot(2, 1, 1)\n",
    "plt.plot(acc, label='Training Accuracy')\n",
    "plt.plot(val_acc, label='Validation Accuracy')\n",
    "plt.legend(loc='lower right')\n",
    "plt.ylabel('Accuracy')\n",
    "plt.ylim([min(plt.ylim()),1.05])\n",
    "plt.title('Training and Validation Accuracy')\n",
    "\n",
    "plt.subplot(2, 1, 2)\n",
    "plt.plot(loss, label='Training Loss')\n",
    "plt.plot(val_loss, label='Validation Loss')\n",
    "plt.legend(loc='upper right')\n",
    "plt.ylabel('Cross Entropy')\n",
    "plt.ylim([0.0,1.5])\n",
    "plt.title('Training and Validation Loss')\n",
    "plt.xlabel('epoch')\n",
    "plt.show()"
   ]
  }
 ],
 "metadata": {
  "kernelspec": {
   "display_name": "Python 3",
   "language": "python",
   "name": "python3"
  },
  "language_info": {
   "codemirror_mode": {
    "name": "ipython",
    "version": 3
   },
   "file_extension": ".py",
   "mimetype": "text/x-python",
   "name": "python",
   "nbconvert_exporter": "python",
   "pygments_lexer": "ipython3",
   "version": "3.7.6"
  }
 },
 "nbformat": 4,
 "nbformat_minor": 4
}
