{
 "cells": [
  {
   "cell_type": "code",
   "execution_count": 3,
   "metadata": {},
   "outputs": [],
   "source": [
    "from tensorflow.keras.models import Sequential\n",
    "from tensorflow.keras.layers import Dense, Dropout, Flatten\n",
    "from tensorflow.keras.layers import Conv2D, MaxPooling2D, Activation, BatchNormalization\n",
    "from tensorflow.keras.layers import GlobalAveragePooling2D\n",
    "import tensorflow as tf\n",
    "import numpy as np\n",
    "import os"
   ]
  },
  {
   "cell_type": "code",
   "execution_count": 2,
   "metadata": {},
   "outputs": [],
   "source": [
    "IMAGE_SHAPE = (128, 128, 3)\n",
    "CLASS_ONE = \"Mundo4\"\n",
    "\n",
    "TRAIN_DATA_FILES = [\"./DataNous/Caso_Facil/Entrenamiento/Mundo4/*.png\", \"./DataNous/Caso_Facil/Entrenamiento/Mundo7/*.png\"]\n",
    "VALIDATION_DATA_FILES = [\"./DataNous/Caso_Facil/Validacion/Mundo4/*.png\", \"./DataNous/Caso_Facil/Validacion/Mundo7/*.png\"]\n",
    "\n",
    "CHECKPOINTS = \"./DataNous/Caso_Facil/Checkpoints/Caso_Facil_{epoch:04d}.h5\"\n",
    "\n",
    "BATCH_SIZE = 32"
   ]
  },
  {
   "cell_type": "code",
   "execution_count": 18,
   "metadata": {},
   "outputs": [
    {
     "name": "stdout",
     "output_type": "stream",
     "text": [
      "Model: \"sequential_6\"\n",
      "_________________________________________________________________\n",
      "Layer (type)                 Output Shape              Param #   \n",
      "=================================================================\n",
      "conv2d_15 (Conv2D)           (None, 64, 64, 16)        448       \n",
      "_________________________________________________________________\n",
      "conv2d_16 (Conv2D)           (None, 32, 32, 32)        4640      \n",
      "_________________________________________________________________\n",
      "conv2d_17 (Conv2D)           (None, 16, 16, 64)        18496     \n",
      "_________________________________________________________________\n",
      "flatten_5 (Flatten)          (None, 16384)             0         \n",
      "_________________________________________________________________\n",
      "dense_6 (Dense)              (None, 1)                 16385     \n",
      "=================================================================\n",
      "Total params: 39,969\n",
      "Trainable params: 39,969\n",
      "Non-trainable params: 0\n",
      "_________________________________________________________________\n"
     ]
    }
   ],
   "source": [
    "'''\n",
    "model = Sequential()\n",
    "\n",
    "model.add(Conv2D(32, (3, 3), input_shape=IMAGE_SHAPE))\n",
    "model.add(BatchNormalization())\n",
    "model.add(Activation('relu'))\n",
    "model.add(MaxPooling2D(pool_size=(2, 2)))\n",
    "model.add(Dropout(rate=0.1))\n",
    "\n",
    "\n",
    "model.add(Conv2D(64, (3, 3), input_shape=IMAGE_SHAPE))\n",
    "model.add(Activation('relu'))\n",
    "model.add(MaxPooling2D(pool_size=(2, 2)))\n",
    "model.add(Dropout(rate=0.1))\n",
    "\n",
    "\n",
    "model.add(Conv2D(128, (3,3), input_shape=IMAGE_SHAPE))\n",
    "model.add(Activation('relu'))\n",
    "model.add(Dropout(rate=0.1))\n",
    "\n",
    "model.add(Flatten())\n",
    "\n",
    "model.add(Dense(128, activation='relu'))\n",
    "\n",
    "# Dropout\n",
    "model.add(Dropout(rate=0.5))\n",
    "model.add(Dense(32, activation='relu'))\n",
    "model.add(Dense(units=1, activation='sigmoid'))\n",
    "\n",
    "model.summary() '''\n",
    "\n",
    "model = tf.keras.Sequential()\n",
    "model.add(tf.keras.layers.Conv2D(16, (3,3), strides=(2,2), padding='same', input_shape=IMAGE_SHAPE))\n",
    "model.add(tf.keras.layers.Conv2D(32, (3,3), strides=(2,2), padding='same'))\n",
    "model.add(tf.keras.layers.Conv2D(64, (3,3), strides=(2,2), padding='same'))\n",
    "model.add(tf.keras.layers.Flatten())\n",
    "model.add(tf.keras.layers.Dense(1))\n",
    "model.summary()"
   ]
  },
  {
   "cell_type": "code",
   "execution_count": 5,
   "metadata": {},
   "outputs": [],
   "source": [
    "def process_dataset(file_path):\n",
    "    parts = tf.strings.split(file_path, os.path.sep)\n",
    "    label = parts[-2]\n",
    "    label = label == CLASS_ONE\n",
    "    label = tf.cast(label, dtype=tf.float32)\n",
    "\n",
    "    image = tf.io.read_file(file_path)\n",
    "    image = tf.image.decode_png(image)\n",
    "    image = tf.image.resize(image, (128, 128))\n",
    "    image = (tf.image.convert_image_dtype(image, tf.float32) / 127.5) - 1\n",
    "\n",
    "    return image, label"
   ]
  },
  {
   "cell_type": "code",
   "execution_count": 6,
   "metadata": {},
   "outputs": [],
   "source": [
    "train_dataset = tf.data.Dataset.list_files(TRAIN_DATA_FILES)\n",
    "train_dataset = train_dataset.map(process_dataset, tf.data.experimental.AUTOTUNE)\n",
    "train_dataset = train_dataset.shuffle(buffer_size=1024, reshuffle_each_iteration=True)\n",
    "train_dataset = train_dataset.batch(BATCH_SIZE).repeat()\n",
    "train_dataset = train_dataset.prefetch(tf.data.experimental.AUTOTUNE)\n",
    "\n",
    "validation_dataset = tf.data.Dataset.list_files(VALIDATION_DATA_FILES)\n",
    "validation_dataset = validation_dataset.map(process_dataset, tf.data.experimental.AUTOTUNE)\n",
    "validation_dataset = validation_dataset.batch(BATCH_SIZE)\n",
    "validation_dataset = validation_dataset.prefetch(tf.data.experimental.AUTOTUNE)"
   ]
  },
  {
   "cell_type": "code",
   "execution_count": 20,
   "metadata": {},
   "outputs": [],
   "source": [
    "Optimizer = tf.keras.optimizers.Adam(learning_rate=0.00001)\n",
    "Loss = tf.keras.losses.BinaryCrossentropy()\n",
    "model.compile(optimizer=Optimizer,\n",
    "               loss=Loss,\n",
    "               metrics=['binary_accuracy'])\n",
    "\n",
    "checkpoints = tf.keras.callbacks.ModelCheckpoint(CHECKPOINTS,\n",
    "                                                 save_best_only=True,\n",
    "                                                 monitor='binary_accuracy')"
   ]
  },
  {
   "cell_type": "code",
   "execution_count": 8,
   "metadata": {},
   "outputs": [
    {
     "data": {
      "text/plain": [
       "363.0"
      ]
     },
     "execution_count": 8,
     "metadata": {},
     "output_type": "execute_result"
    }
   ],
   "source": [
    "initial_epochs = 10\n",
    "num_batches = np.ceil(len(list(tf.data.Dataset.list_files(TRAIN_DATA_FILES))) / BATCH_SIZE)\n",
    "num_batches"
   ]
  },
  {
   "cell_type": "code",
   "execution_count": 21,
   "metadata": {},
   "outputs": [
    {
     "name": "stdout",
     "output_type": "stream",
     "text": [
      "Train for 363.0 steps, validate for 41 steps\n",
      "Epoch 1/10\n",
      "363/363 [==============================] - 103s 284ms/step - loss: 4.0473 - binary_accuracy: 0.5381 - val_loss: 3.6405 - val_binary_accuracy: 0.6008\n",
      "Epoch 2/10\n",
      "363/363 [==============================] - 95s 260ms/step - loss: 3.9378 - binary_accuracy: 0.6294 - val_loss: 3.5493 - val_binary_accuracy: 0.6837\n",
      "Epoch 3/10\n",
      "363/363 [==============================] - 92s 254ms/step - loss: 3.8693 - binary_accuracy: 0.6922 - val_loss: 3.4811 - val_binary_accuracy: 0.7217\n",
      "Epoch 4/10\n",
      "363/363 [==============================] - 92s 252ms/step - loss: 3.7802 - binary_accuracy: 0.7105 - val_loss: 3.3834 - val_binary_accuracy: 0.7016\n",
      "Epoch 5/10\n",
      "363/363 [==============================] - 101s 277ms/step - loss: 3.5814 - binary_accuracy: 0.7393 - val_loss: 3.2861 - val_binary_accuracy: 0.7643\n",
      "Epoch 6/10\n",
      "363/363 [==============================] - 106s 291ms/step - loss: 3.5534 - binary_accuracy: 0.7521 - val_loss: 3.2645 - val_binary_accuracy: 0.7760\n",
      "Epoch 7/10\n",
      "363/363 [==============================] - 107s 296ms/step - loss: 3.5347 - binary_accuracy: 0.7597 - val_loss: 3.2246 - val_binary_accuracy: 0.7806\n",
      "Epoch 8/10\n",
      "363/363 [==============================] - 110s 303ms/step - loss: 3.5201 - binary_accuracy: 0.7628 - val_loss: 3.2899 - val_binary_accuracy: 0.7829\n",
      "Epoch 9/10\n",
      "363/363 [==============================] - 108s 296ms/step - loss: 3.5040 - binary_accuracy: 0.7643 - val_loss: 3.3036 - val_binary_accuracy: 0.7822\n",
      "Epoch 10/10\n",
      "363/363 [==============================] - 107s 295ms/step - loss: 3.4938 - binary_accuracy: 0.7666 - val_loss: 3.2160 - val_binary_accuracy: 0.7845\n"
     ]
    }
   ],
   "source": [
    "history = model.fit(x=train_dataset,\n",
    "                       shuffle=True,\n",
    "                       #verbose=2,\n",
    "                       callbacks=[checkpoints], #, TensorBoard],\n",
    "                       steps_per_epoch=num_batches,\n",
    "                       epochs=10,\n",
    "                       validation_data=validation_dataset,\n",
    "                       initial_epoch=0)"
   ]
  },
  {
   "cell_type": "code",
   "execution_count": 23,
   "metadata": {},
   "outputs": [
    {
     "name": "stdout",
     "output_type": "stream",
     "text": [
      "Train for 363.0 steps, validate for 41 steps\n",
      "Epoch 11/20\n",
      "363/363 [==============================] - 106s 291ms/step - loss: 3.4824 - binary_accuracy: 0.7692 - val_loss: 3.2303 - val_binary_accuracy: 0.7899\n",
      "Epoch 12/20\n",
      "363/363 [==============================] - 105s 288ms/step - loss: 3.4732 - binary_accuracy: 0.7709 - val_loss: 3.2218 - val_binary_accuracy: 0.7922\n",
      "Epoch 13/20\n",
      "363/363 [==============================] - 107s 294ms/step - loss: 3.4691 - binary_accuracy: 0.7734 - val_loss: 3.2392 - val_binary_accuracy: 0.7930\n",
      "Epoch 14/20\n",
      "363/363 [==============================] - 105s 291ms/step - loss: 3.4610 - binary_accuracy: 0.7753 - val_loss: 3.1818 - val_binary_accuracy: 0.7930\n",
      "Epoch 15/20\n",
      "363/363 [==============================] - 104s 287ms/step - loss: 3.4534 - binary_accuracy: 0.7765 - val_loss: 3.2276 - val_binary_accuracy: 0.7930\n",
      "Epoch 16/20\n",
      "363/363 [==============================] - 106s 292ms/step - loss: 3.4511 - binary_accuracy: 0.7771 - val_loss: 3.1949 - val_binary_accuracy: 0.7930\n",
      "Epoch 17/20\n",
      "363/363 [==============================] - 105s 290ms/step - loss: 3.4448 - binary_accuracy: 0.7773 - val_loss: 3.2668 - val_binary_accuracy: 0.7938\n",
      "Epoch 18/20\n",
      "363/363 [==============================] - 107s 295ms/step - loss: 3.4424 - binary_accuracy: 0.7774 - val_loss: 3.1846 - val_binary_accuracy: 0.7938\n",
      "Epoch 19/20\n",
      "363/363 [==============================] - 107s 295ms/step - loss: 3.4353 - binary_accuracy: 0.7774 - val_loss: 3.2079 - val_binary_accuracy: 0.7938\n",
      "Epoch 20/20\n",
      "363/363 [==============================] - 106s 291ms/step - loss: 3.4360 - binary_accuracy: 0.7774 - val_loss: 3.1545 - val_binary_accuracy: 0.7938\n"
     ]
    }
   ],
   "source": [
    "history2 = model.fit(x=train_dataset,\n",
    "                       shuffle=True,\n",
    "                       #verbose=2,\n",
    "                       callbacks=[checkpoints], #, TensorBoard],\n",
    "                       steps_per_epoch=num_batches,\n",
    "                       epochs=20,\n",
    "                       validation_data=validation_dataset,\n",
    "                       initial_epoch=10)"
   ]
  },
  {
   "cell_type": "code",
   "execution_count": 32,
   "metadata": {},
   "outputs": [
    {
     "data": {
      "image/png": "[encoded data removed]",
      "text/plain": [
       "<Figure size 576x576 with 2 Axes>"
      ]
     },
     "metadata": {
      "needs_background": "light"
     },
     "output_type": "display_data"
    }
   ],
   "source": [
    "import matplotlib.pyplot as plt\n",
    "acc = history.history['binary_accuracy'] + history2.history['binary_accuracy']\n",
    "val_acc = history.history['val_binary_accuracy'] + history2.history['val_binary_accuracy']\n",
    "\n",
    "loss = history.history['loss'] + history2.history['loss']\n",
    "val_loss = history.history['val_loss'] + history2.history['val_loss']\n",
    "\n",
    "plt.figure(figsize=(8, 8))\n",
    "plt.subplot(2, 1, 1)\n",
    "plt.plot(acc, label='Training Accuracy')\n",
    "plt.plot(val_acc, label='Validation Accuracy')\n",
    "plt.legend(loc='lower right')\n",
    "plt.ylabel('Accuracy')\n",
    "plt.ylim([min(plt.ylim()),1])\n",
    "plt.title('Training and Validation Accuracy')\n",
    "\n",
    "plt.subplot(2, 1, 2)\n",
    "plt.plot(loss, label='Training Loss')\n",
    "plt.plot(val_loss, label='Validation Loss')\n",
    "plt.legend(loc='upper right')\n",
    "plt.ylabel('Cross Entropy')\n",
    "plt.ylim([3.0,4.5])\n",
    "plt.title('Training and Validation Loss')\n",
    "plt.xlabel('epoch')\n",
    "plt.show()"
   ]
  }
 ],
 "metadata": {
  "kernelspec": {
   "display_name": "Python 3",
   "language": "python",
   "name": "python3"
  },
  "language_info": {
   "codemirror_mode": {
    "name": "ipython",
    "version": 3
   },
   "file_extension": ".py",
   "mimetype": "text/x-python",
   "name": "python",
   "nbconvert_exporter": "python",
   "pygments_lexer": "ipython3",
   "version": "3.7.6"
  }
 },
 "nbformat": 4,
 "nbformat_minor": 4
}
