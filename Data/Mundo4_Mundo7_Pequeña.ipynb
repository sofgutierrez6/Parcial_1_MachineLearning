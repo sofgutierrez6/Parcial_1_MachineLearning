{
 "cells": [
  {
   "cell_type": "code",
   "execution_count": 1,
   "metadata": {},
   "outputs": [],
   "source": [
    "from tensorflow.keras.models import Sequential\n",
    "from tensorflow.keras.layers import Dense, Dropout, Flatten\n",
    "from tensorflow.keras.layers import Conv2D, MaxPooling2D, Activation, BatchNormalization\n",
    "from tensorflow.keras.layers import GlobalAveragePooling2D\n",
    "import tensorflow as tf\n",
    "import numpy as np\n",
    "import os"
   ]
  },
  {
   "cell_type": "code",
   "execution_count": 2,
   "metadata": {},
   "outputs": [],
   "source": [
    "IMAGE_SHAPE = (128, 128, 3)\n",
    "CLASS_ONE = \"Mundo4\"\n",
    "\n",
    "TRAIN_DATA_FILES = [\"./DataNous/Caso_Facil/Entrenamiento/Mundo4/*.png\", \"./DataNous/Caso_Facil/Entrenamiento/Mundo7/*.png\"]\n",
    "VALIDATION_DATA_FILES = [\"./DataNous/Caso_Facil/Validacion/Mundo4/*.png\", \"./DataNous/Caso_Facil/Validacion/Mundo7/*.png\"]\n",
    "\n",
    "CHECKPOINTS = \"./DataNous/Caso_Facil/Checkpoints/Caso_Facil_{epoch:04d}.h5\"\n",
    "\n",
    "BATCH_SIZE = 32"
   ]
  },
  {
   "cell_type": "code",
   "execution_count": 3,
   "metadata": {},
   "outputs": [
    {
     "name": "stdout",
     "output_type": "stream",
     "text": [
      "Model: \"sequential\"\n",
      "_________________________________________________________________\n",
      "Layer (type)                 Output Shape              Param #   \n",
      "=================================================================\n",
      "conv2d (Conv2D)              (None, 64, 64, 16)        448       \n",
      "_________________________________________________________________\n",
      "conv2d_1 (Conv2D)            (None, 32, 32, 32)        4640      \n",
      "_________________________________________________________________\n",
      "conv2d_2 (Conv2D)            (None, 16, 16, 64)        18496     \n",
      "_________________________________________________________________\n",
      "flatten (Flatten)            (None, 16384)             0         \n",
      "_________________________________________________________________\n",
      "dense (Dense)                (None, 1)                 16385     \n",
      "=================================================================\n",
      "Total params: 39,969\n",
      "Trainable params: 39,969\n",
      "Non-trainable params: 0\n",
      "_________________________________________________________________\n"
     ]
    }
   ],
   "source": [
    "model = tf.keras.Sequential()\n",
    "model.add(tf.keras.layers.Conv2D(16, (3,3), strides=(2,2), padding='same', input_shape=IMAGE_SHAPE))\n",
    "model.add(tf.keras.layers.Conv2D(32, (3,3), strides=(2,2), padding='same'))\n",
    "model.add(tf.keras.layers.Conv2D(64, (3,3), strides=(2,2), padding='same'))\n",
    "model.add(tf.keras.layers.Flatten())\n",
    "model.add(tf.keras.layers.Dense(1))\n",
    "model.summary()"
   ]
  },
  {
   "cell_type": "code",
   "execution_count": 4,
   "metadata": {},
   "outputs": [],
   "source": [
    "def process_dataset(file_path):\n",
    "    parts = tf.strings.split(file_path, os.path.sep)\n",
    "    label = parts[-2]\n",
    "    label = label == CLASS_ONE\n",
    "    label = tf.cast(label, dtype=tf.float32)\n",
    "\n",
    "    image = tf.io.read_file(file_path)\n",
    "    image = tf.image.decode_png(image)\n",
    "    image = tf.image.resize(image, (128, 128))\n",
    "    image = (tf.image.convert_image_dtype(image, tf.float32) / 127.5) - 1\n",
    "\n",
    "    return image, label"
   ]
  },
  {
   "cell_type": "code",
   "execution_count": 5,
   "metadata": {},
   "outputs": [],
   "source": [
    "train_dataset = tf.data.Dataset.list_files(TRAIN_DATA_FILES)\n",
    "train_dataset = train_dataset.map(process_dataset, tf.data.experimental.AUTOTUNE)\n",
    "train_dataset = train_dataset.shuffle(buffer_size=1024, reshuffle_each_iteration=True)\n",
    "train_dataset = train_dataset.batch(BATCH_SIZE).repeat()\n",
    "train_dataset = train_dataset.prefetch(tf.data.experimental.AUTOTUNE)\n",
    "\n",
    "validation_dataset = tf.data.Dataset.list_files(VALIDATION_DATA_FILES)\n",
    "validation_dataset = validation_dataset.map(process_dataset, tf.data.experimental.AUTOTUNE)\n",
    "validation_dataset = validation_dataset.batch(BATCH_SIZE)\n",
    "validation_dataset = validation_dataset.prefetch(tf.data.experimental.AUTOTUNE)"
   ]
  },
  {
   "cell_type": "code",
   "execution_count": 6,
   "metadata": {},
   "outputs": [],
   "source": [
    "Optimizer = tf.keras.optimizers.Adam(learning_rate=0.00001)\n",
    "Loss = tf.keras.losses.BinaryCrossentropy()\n",
    "model.compile(optimizer=Optimizer,\n",
    "               loss=Loss,\n",
    "               metrics=['binary_accuracy'])\n",
    "\n",
    "checkpoints = tf.keras.callbacks.ModelCheckpoint(CHECKPOINTS,\n",
    "                                                 save_best_only=True,\n",
    "                                                 monitor='binary_accuracy')"
   ]
  },
  {
   "cell_type": "code",
   "execution_count": 7,
   "metadata": {},
   "outputs": [
    {
     "data": {
      "text/plain": [
       "363.0"
      ]
     },
     "execution_count": 7,
     "metadata": {},
     "output_type": "execute_result"
    }
   ],
   "source": [
    "initial_epochs = 30\n",
    "num_batches = np.ceil(len(list(tf.data.Dataset.list_files(TRAIN_DATA_FILES))) / BATCH_SIZE)\n",
    "num_batches"
   ]
  },
  {
   "cell_type": "code",
   "execution_count": 8,
   "metadata": {},
   "outputs": [
    {
     "name": "stdout",
     "output_type": "stream",
     "text": [
      "Train for 363.0 steps, validate for 41 steps\n",
      "Epoch 1/30\n",
      "363/363 [==============================] - 102s 280ms/step - loss: 1.3607 - binary_accuracy: 0.5195 - val_loss: 1.1638 - val_binary_accuracy: 0.5287\n",
      "Epoch 2/30\n",
      "363/363 [==============================] - 119s 329ms/step - loss: 0.8876 - binary_accuracy: 0.5182 - val_loss: 0.8439 - val_binary_accuracy: 0.5109\n",
      "Epoch 3/30\n",
      "363/363 [==============================] - 102s 282ms/step - loss: 0.8205 - binary_accuracy: 0.5177 - val_loss: 0.8159 - val_binary_accuracy: 0.5116\n",
      "Epoch 4/30\n",
      "363/363 [==============================] - 98s 269ms/step - loss: 0.7914 - binary_accuracy: 0.5289 - val_loss: 0.7722 - val_binary_accuracy: 0.5271\n",
      "Epoch 5/30\n",
      "363/363 [==============================] - 103s 285ms/step - loss: 0.7619 - binary_accuracy: 0.5395 - val_loss: 0.7567 - val_binary_accuracy: 0.5333\n",
      "Epoch 6/30\n",
      "363/363 [==============================] - 98s 271ms/step - loss: 0.7344 - binary_accuracy: 0.5566 - val_loss: 0.7374 - val_binary_accuracy: 0.5473\n",
      "Epoch 7/30\n",
      "363/363 [==============================] - 97s 266ms/step - loss: 0.7103 - binary_accuracy: 0.5697 - val_loss: 0.7231 - val_binary_accuracy: 0.5581\n",
      "Epoch 8/30\n",
      "363/363 [==============================] - 106s 292ms/step - loss: 0.6899 - binary_accuracy: 0.5931 - val_loss: 0.6981 - val_binary_accuracy: 0.5822\n",
      "Epoch 9/30\n",
      "363/363 [==============================] - 117s 322ms/step - loss: 0.6670 - binary_accuracy: 0.6130 - val_loss: 0.6808 - val_binary_accuracy: 0.6000\n",
      "Epoch 10/30\n",
      "363/363 [==============================] - 107s 295ms/step - loss: 0.6441 - binary_accuracy: 0.6338 - val_loss: 0.6564 - val_binary_accuracy: 0.6101\n",
      "Epoch 11/30\n",
      "363/363 [==============================] - 103s 285ms/step - loss: 0.6194 - binary_accuracy: 0.6559 - val_loss: 0.6355 - val_binary_accuracy: 0.6318\n",
      "Epoch 12/30\n",
      "363/363 [==============================] - 112s 309ms/step - loss: 0.5933 - binary_accuracy: 0.6738 - val_loss: 0.6074 - val_binary_accuracy: 0.6496\n",
      "Epoch 13/30\n",
      "363/363 [==============================] - 100s 275ms/step - loss: 0.5669 - binary_accuracy: 0.6939 - val_loss: 0.5805 - val_binary_accuracy: 0.6628\n",
      "Epoch 14/30\n",
      "363/363 [==============================] - 93s 255ms/step - loss: 0.5379 - binary_accuracy: 0.7092 - val_loss: 0.5549 - val_binary_accuracy: 0.6783\n",
      "Epoch 15/30\n",
      "363/363 [==============================] - 108s 299ms/step - loss: 0.5095 - binary_accuracy: 0.7304 - val_loss: 0.5268 - val_binary_accuracy: 0.7101\n",
      "Epoch 16/30\n",
      "363/363 [==============================] - 102s 282ms/step - loss: 0.4818 - binary_accuracy: 0.7551 - val_loss: 0.4993 - val_binary_accuracy: 0.7240\n",
      "Epoch 17/30\n",
      "363/363 [==============================] - 105s 289ms/step - loss: 0.4540 - binary_accuracy: 0.7867 - val_loss: 0.4611 - val_binary_accuracy: 0.7713\n",
      "Epoch 18/30\n",
      "363/363 [==============================] - 109s 301ms/step - loss: 0.4272 - binary_accuracy: 0.8040 - val_loss: 0.4355 - val_binary_accuracy: 0.7938\n",
      "Epoch 19/30\n",
      "363/363 [==============================] - 119s 328ms/step - loss: 0.4011 - binary_accuracy: 0.8256 - val_loss: 0.4070 - val_binary_accuracy: 0.8302\n",
      "Epoch 20/30\n",
      "363/363 [==============================] - 107s 295ms/step - loss: 0.3753 - binary_accuracy: 0.8474 - val_loss: 0.3803 - val_binary_accuracy: 0.8543\n",
      "Epoch 21/30\n",
      "363/363 [==============================] - 125s 346ms/step - loss: 0.3480 - binary_accuracy: 0.8604 - val_loss: 0.3528 - val_binary_accuracy: 0.8651\n",
      "Epoch 22/30\n",
      "363/363 [==============================] - 117s 323ms/step - loss: 0.3213 - binary_accuracy: 0.8783 - val_loss: 0.3299 - val_binary_accuracy: 0.8922\n",
      "Epoch 23/30\n",
      "363/363 [==============================] - 122s 336ms/step - loss: 0.2952 - binary_accuracy: 0.9038 - val_loss: 0.2987 - val_binary_accuracy: 0.8984\n",
      "Epoch 24/30\n",
      "363/363 [==============================] - 113s 312ms/step - loss: 0.2692 - binary_accuracy: 0.9154 - val_loss: 0.2748 - val_binary_accuracy: 0.9054\n",
      "Epoch 25/30\n",
      "363/363 [==============================] - 118s 326ms/step - loss: 0.2449 - binary_accuracy: 0.9238 - val_loss: 0.2489 - val_binary_accuracy: 0.9147\n",
      "Epoch 26/30\n",
      "363/363 [==============================] - 100s 275ms/step - loss: 0.2220 - binary_accuracy: 0.9299 - val_loss: 0.2265 - val_binary_accuracy: 0.9209\n",
      "Epoch 27/30\n",
      "363/363 [==============================] - 97s 267ms/step - loss: 0.1983 - binary_accuracy: 0.9381 - val_loss: 0.2063 - val_binary_accuracy: 0.9240\n",
      "Epoch 28/30\n",
      "363/363 [==============================] - 106s 291ms/step - loss: 0.1776 - binary_accuracy: 0.9461 - val_loss: 0.1870 - val_binary_accuracy: 0.9333\n",
      "Epoch 29/30\n",
      "363/363 [==============================] - 111s 305ms/step - loss: 0.1592 - binary_accuracy: 0.9555 - val_loss: 0.1628 - val_binary_accuracy: 0.9442\n",
      "Epoch 30/30\n",
      "363/363 [==============================] - 120s 332ms/step - loss: 0.1397 - binary_accuracy: 0.9612 - val_loss: 0.1441 - val_binary_accuracy: 0.9581\n"
     ]
    }
   ],
   "source": [
    "history = model.fit(x=train_dataset,\n",
    "                       shuffle=True,\n",
    "                       #verbose=2,\n",
    "                       callbacks=[checkpoints], #, TensorBoard],\n",
    "                       steps_per_epoch=num_batches,\n",
    "                       epochs=initial_epochs,\n",
    "                       validation_data=validation_dataset,\n",
    "                       initial_epoch=0)"
   ]
  },
  {
   "cell_type": "code",
   "execution_count": 12,
   "metadata": {},
   "outputs": [
    {
     "name": "stdout",
     "output_type": "stream",
     "text": [
      "Train for 363.0 steps, validate for 41 steps\n",
      "Epoch 31/40\n",
      "363/363 [==============================] - 100s 276ms/step - loss: 0.1230 - binary_accuracy: 0.9693 - val_loss: 0.1273 - val_binary_accuracy: 0.9636\n",
      "Epoch 32/40\n",
      "363/363 [==============================] - 103s 283ms/step - loss: 0.1073 - binary_accuracy: 0.9762 - val_loss: 0.1141 - val_binary_accuracy: 0.9721\n",
      "Epoch 33/40\n",
      "363/363 [==============================] - 121s 332ms/step - loss: 0.0921 - binary_accuracy: 0.9799 - val_loss: 0.0986 - val_binary_accuracy: 0.9822\n",
      "Epoch 34/40\n",
      "363/363 [==============================] - 115s 318ms/step - loss: 0.0781 - binary_accuracy: 0.9844 - val_loss: 0.0837 - val_binary_accuracy: 0.9845\n",
      "Epoch 35/40\n",
      "363/363 [==============================] - 97s 267ms/step - loss: 0.0668 - binary_accuracy: 0.9878 - val_loss: 0.0710 - val_binary_accuracy: 0.9853\n",
      "Epoch 36/40\n",
      "363/363 [==============================] - 97s 268ms/step - loss: 0.0572 - binary_accuracy: 0.9906 - val_loss: 0.0657 - val_binary_accuracy: 0.9891\n",
      "Epoch 37/40\n",
      "363/363 [==============================] - 104s 286ms/step - loss: 0.0494 - binary_accuracy: 0.9928 - val_loss: 0.0557 - val_binary_accuracy: 0.9907\n",
      "Epoch 38/40\n",
      "363/363 [==============================] - 102s 281ms/step - loss: 0.0423 - binary_accuracy: 0.9948 - val_loss: 0.0479 - val_binary_accuracy: 0.9907\n",
      "Epoch 39/40\n",
      "363/363 [==============================] - 117s 322ms/step - loss: 0.0359 - binary_accuracy: 0.9964 - val_loss: 0.0422 - val_binary_accuracy: 0.9922\n",
      "Epoch 40/40\n",
      "363/363 [==============================] - 116s 320ms/step - loss: 0.0299 - binary_accuracy: 0.9975 - val_loss: 0.0347 - val_binary_accuracy: 0.9953\n"
     ]
    }
   ],
   "source": [
    "history2 = model.fit(x=train_dataset,\n",
    "                       shuffle=True,\n",
    "                       #verbose=2,\n",
    "                       callbacks=[checkpoints], #, TensorBoard],\n",
    "                       steps_per_epoch=num_batches,\n",
    "                       epochs=40,\n",
    "                       validation_data=validation_dataset,\n",
    "                       initial_epoch=30)"
   ]
  },
  {
   "cell_type": "code",
   "execution_count": 13,
   "metadata": {},
   "outputs": [
    {
     "name": "stdout",
     "output_type": "stream",
     "text": [
      "Train for 363.0 steps, validate for 41 steps\n",
      "Epoch 41/50\n",
      "363/363 [==============================] - 109s 302ms/step - loss: 0.0240 - binary_accuracy: 0.9988 - val_loss: 0.0258 - val_binary_accuracy: 0.9969\n",
      "Epoch 42/50\n",
      "363/363 [==============================] - 112s 309ms/step - loss: 0.0189 - binary_accuracy: 0.9991 - val_loss: 0.0228 - val_binary_accuracy: 0.9969\n",
      "Epoch 43/50\n",
      "363/363 [==============================] - 161s 443ms/step - loss: 0.0143 - binary_accuracy: 0.9996 - val_loss: 0.0158 - val_binary_accuracy: 0.9992\n",
      "Epoch 44/50\n",
      "363/363 [==============================] - 145s 398ms/step - loss: 0.0100 - binary_accuracy: 0.9998 - val_loss: 0.0122 - val_binary_accuracy: 1.0000\n",
      "Epoch 45/50\n",
      "363/363 [==============================] - 173s 476ms/step - loss: 0.0063 - binary_accuracy: 1.0000 - val_loss: 0.0074 - val_binary_accuracy: 1.0000\n",
      "Epoch 46/50\n",
      "363/363 [==============================] - 171s 472ms/step - loss: 0.0037 - binary_accuracy: 1.0000 - val_loss: 0.0044 - val_binary_accuracy: 1.0000\n",
      "Epoch 47/50\n",
      "363/363 [==============================] - 150s 413ms/step - loss: 0.0019 - binary_accuracy: 1.0000 - val_loss: 0.0029 - val_binary_accuracy: 1.0000\n",
      "Epoch 48/50\n",
      "363/363 [==============================] - 103s 283ms/step - loss: 0.0010 - binary_accuracy: 1.0000 - val_loss: 0.0020 - val_binary_accuracy: 1.0000\n",
      "Epoch 49/50\n",
      "363/363 [==============================] - 91s 252ms/step - loss: 5.9165e-04 - binary_accuracy: 1.0000 - val_loss: 0.0015 - val_binary_accuracy: 1.0000\n",
      "Epoch 50/50\n",
      "363/363 [==============================] - 92s 253ms/step - loss: 3.8080e-04 - binary_accuracy: 1.0000 - val_loss: 0.0015 - val_binary_accuracy: 1.0000\n"
     ]
    }
   ],
   "source": [
    "history3 = model.fit(x=train_dataset,\n",
    "                       shuffle=True,\n",
    "                       #verbose=2,\n",
    "                       callbacks=[checkpoints], #, TensorBoard],\n",
    "                       steps_per_epoch=num_batches,\n",
    "                       epochs=50,\n",
    "                       validation_data=validation_dataset,\n",
    "                       initial_epoch=40)"
   ]
  },
  {
   "cell_type": "code",
   "execution_count": 9,
   "metadata": {},
   "outputs": [
    {
     "data": {
      "image/png": "[encoded data removed]",
      "text/plain": [
       "<Figure size 576x576 with 2 Axes>"
      ]
     },
     "metadata": {
      "needs_background": "light"
     },
     "output_type": "display_data"
    }
   ],
   "source": [
    "import matplotlib.pyplot as plt\n",
    "acc = history.history['binary_accuracy'] + history2.history['binary_accuracy'] + history3.history['binary_accuracy']\n",
    "val_acc = history.history['val_binary_accuracy'] + history2.history['val_binary_accuracy'] + history3.history['val_binary_accuracy']\n",
    "\n",
    "loss = history.history['loss']\n",
    "val_loss = history.history['val_loss']\n",
    "\n",
    "plt.figure(figsize=(8, 8))\n",
    "plt.subplot(2, 1, 1)\n",
    "plt.plot(acc, label='Training Accuracy')\n",
    "plt.plot(val_acc, label='Validation Accuracy')\n",
    "plt.legend(loc='lower right')\n",
    "plt.ylabel('Accuracy')\n",
    "plt.ylim([min(plt.ylim()),1])\n",
    "plt.title('Training and Validation Accuracy')\n",
    "\n",
    "plt.subplot(2, 1, 2)\n",
    "plt.plot(loss, label='Training Loss')\n",
    "plt.plot(val_loss, label='Validation Loss')\n",
    "plt.legend(loc='upper right')\n",
    "plt.ylabel('Cross Entropy')\n",
    "plt.ylim([0.0,1.5])\n",
    "plt.title('Training and Validation Loss')\n",
    "plt.xlabel('epoch')\n",
    "plt.show()"
   ]
  }
 ],
 "metadata": {
  "kernelspec": {
   "display_name": "Python 3",
   "language": "python",
   "name": "python3"
  },
  "language_info": {
   "codemirror_mode": {
    "name": "ipython",
    "version": 3
   },
   "file_extension": ".py",
   "mimetype": "text/x-python",
   "name": "python",
   "nbconvert_exporter": "python",
   "pygments_lexer": "ipython3",
   "version": "3.7.6"
  }
 },
 "nbformat": 4,
 "nbformat_minor": 4
}
